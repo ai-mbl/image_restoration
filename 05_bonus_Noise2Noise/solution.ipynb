{
 "cells": [
  {
   "attachments": {},
   "cell_type": "markdown",
   "metadata": {
    "tags": []
   },
   "source": [
    "# Noise2Noise\n",
    "\n",
    "CARE networks like the one you trained in the first image restoration exercise require that you acquire pairs\n",
    "of high and low signal-to-noise ratio images. However, this often extremely challenging or, even, not possible. One such case is when it is simply\n",
    "not possible to acquire high SNR images as the sample is too much susceptible to illumination.\n",
    "\n",
    "What to do when you are stuck with just noisy images? We have already seen Noise2Void, which\n",
    "is a self-supervised method that can be trained on noisy images. But there are other \n",
    "supervised approaches that can be trained on noisy images only, such as Noise2Noise. \n",
    "Noise2Noise (N2N) is very similar to CARE, except instead of using noisy inputs and clean targets, N2N uses noisy inputs and noisy targets.\n",
    "This paired data would be aquired by taking two images of your sample in quick succession.\n",
    "\n",
    "Noise2Noise relies on 2 assumptions: \n",
    "1. The noise in one image is statistically independent of the noise in any other image.\n",
    "That is, knowing the value of the random noise in one image tells you nothing about the random noise in another other image.\n",
    "2. The noise is on average zero. Meaning that, while noise can randomly increase or decrease the intensity of a pixel, the average change will be zero.\n",
    "\n",
    "These assumptions are widely met by imaging noise.\n",
    "Therefore, if we train a neural network to predict one noisy image from another using the mean squared error loss function, the network will learn to predict a denoised image.\n",
    "Theoretically, we can achieve the exact same result as CARE without any clean images!\n",
    "However, in practice, N2N will require more training data than CARE to make up for the noisier training signal.\n",
    "\n",
    "In this notebook, we will again use the [Careamics](https://careamics.github.io) library.\n",
    "\n",
    "<p align=\"center\">\n",
    "    <img src=\"https://raw.githubusercontent.com/CAREamics/.github/main/profile/images/banner_careamics.png\" width=400>\n",
    "</p>\n",
    "\n",
    "## Reference\n",
    "\n",
    "Lehtinen, Jaakko, et al. \"[Noise2Noise: Learning image restoration without clean data.](https://arxiv.org/abs/1803.04189)\" arXiv preprint arXiv:1803.04189 (2018).\n",
    "\n",
    "\n",
    "<div class=\"alert alert-block alert-success\"><h3>Objectives</h3>\n",
    "    \n",
    "- Understand the differences between CARE, Noise2Noise and Noise2Void\n",
    "- Train Noise2Noise with CAREamics\n",
    "  \n",
    "</div>\n",
    "\n"
   ]
  },
  {
   "cell_type": "markdown",
   "metadata": {
    "tags": []
   },
   "source": [
    "<div class=\"alert alert-danger\">\n",
    "Set your python kernel to <code>05_image_restoration</code>\n",
    "</div>"
   ]
  },
  {
   "cell_type": "code",
   "execution_count": null,
   "metadata": {
    "tags": []
   },
   "outputs": [],
   "source": [
    "import shutil\n",
    "from pathlib import Path\n",
    "\n",
    "import matplotlib.pyplot as plt\n",
    "import numpy as np\n",
    "import tifffile\n",
    "\n",
    "from careamics import CAREamist\n",
    "from careamics.config import create_n2n_configuration"
   ]
  },
  {
   "attachments": {},
   "cell_type": "markdown",
   "metadata": {
    "tags": []
   },
   "source": [
    "<hr style=\"height:2px;\">\n",
    "\n",
    "## Part 1: Prepare the data\n",
    "\n",
    "The N2N SEM dataset consists of EM images with 7 different levels of noise:\n",
    "\n",
    "- Image 0 is recorded with 0.2 us scan time\n",
    "- Image 1 is recorded with 0.5 us scan time\n",
    "- Image 2 is recorded with 1 us scan time\n",
    "- Image 3 is recorded with 1 us scan time\n",
    "- Image 4 is recorded with 2.1 us scan time\n",
    "- Image 5 is recorded with 5.0 us scan time\n",
    "- Image 6 is recorded with 5.0 us scan time and is the avg. of 4 images\n",
    "\n",
    "Let's have a look at them."
   ]
  },
  {
   "attachments": {},
   "cell_type": "markdown",
   "metadata": {
    "tags": []
   },
   "source": [
    "### Visualize training data\n",
    "\n",
    "In this cell we can see the different levels of noise in the SEM dataset"
   ]
  },
  {
   "cell_type": "markdown",
   "id": "4876d5af",
   "metadata": {
    "tags": []
   },
   "source": [
    "<div class=\"alert alert-block alert-info\"><h3>Task 1: Explore the data</h3>\n",
    "\n",
    "Here we load a training image to visualize it. Can you visually tell if the noise is pixel-independent?\n",
    "In case you are not sure, try to think how you would experimentally verify this assumption (you do not need to actually do it, just think about it remembering what we saw in previous exercises).\n",
    "\n",
    "</div>"
   ]
  },
  {
   "cell_type": "code",
   "execution_count": null,
   "metadata": {
    "lines_to_next_cell": 2,
    "tags": []
   },
   "outputs": [],
   "source": [
    "# Load images\n",
    "root_path = Path(\"./../data\")\n",
    "train_image = tifffile.imread(root_path / \"denoising-N2N_SEM.unzip/SEM/train.tif\")\n",
    "print(f\"Train image shape: {train_image.shape}\")\n",
    "\n",
    "# plot image\n",
    "vmin, vmax = np.percentile(train_image, (1, 99))\n",
    "fig, ax = plt.subplots(3, 3, figsize=(15, 15), constrained_layout=True)\n",
    "fig.patch.set_facecolor('black')\n",
    "ax[0, 0].imshow(train_image[6, :1024, :1024], cmap=\"gray\", vmin=vmin, vmax=vmax)\n",
    "ax[0, 0].set_title(\"Train image - Lowest noise level\", color='white')\n",
    "ax[0, 0].axis(\"off\")\n",
    "ax[0, 1].axis(\"off\")\n",
    "ax[0, 2].axis(\"off\")\n",
    "ax[1, 0].imshow(train_image[5, :1024, :1024], cmap=\"gray\", vmin=vmin, vmax=vmax)\n",
    "ax[1, 0].axis(\"off\")\n",
    "ax[1, 1].imshow(train_image[4, :1024, :1024], cmap=\"gray\", vmin=vmin, vmax=vmax)\n",
    "ax[1, 1].axis(\"off\")\n",
    "ax[1, 2].imshow(train_image[3, :1024, :1024], cmap=\"gray\", vmin=vmin, vmax=vmax)\n",
    "ax[1, 2].axis(\"off\")\n",
    "ax[2, 0].imshow(train_image[2, :1024, :1024], cmap=\"gray\", vmin=vmin, vmax=vmax)\n",
    "ax[2, 0].axis(\"off\")\n",
    "ax[2, 1].imshow(train_image[1, :1024, :1024], cmap=\"gray\", vmin=vmin, vmax=vmax)\n",
    "ax[2, 1].axis(\"off\")\n",
    "ax[2, 2].imshow(train_image[0, :1024, :1024], cmap=\"gray\", vmin=vmin, vmax=vmax)\n",
    "ax[2, 2].axis(\"off\")"
   ]
  },
  {
   "attachments": {},
   "cell_type": "markdown",
   "metadata": {
    "tags": []
   },
   "source": [
    "<hr style=\"height:2px;\">\n",
    "\n",
    "## Part 2: Create the configuraion\n",
    "\n",
    "As in the Noise2Void exercise, a good CAREamics pipeline starts with a configuration!"
   ]
  },
  {
   "cell_type": "code",
   "execution_count": null,
   "metadata": {
    "tags": []
   },
   "outputs": [],
   "source": [
    "training_config = create_n2n_configuration(\n",
    "    experiment_name=\"N2N_SEM\",\n",
    "    data_type=\"array\",\n",
    "    axes=\"SYX\",\n",
    "    patch_size=[128, 128],\n",
    "    batch_size=128,\n",
    "    num_epochs=20,\n",
    "    logger=\"tensorboard\"\n",
    ")\n",
    "\n",
    "# Visualize training configuration (also includes default parameters)\n",
    "print(training_config)"
   ]
  },
  {
   "attachments": {},
   "cell_type": "markdown",
   "metadata": {
    "tags": []
   },
   "source": [
    "<hr style=\"height:2px;\">\n",
    "\n",
    "## Part 3: Train the network\n",
    "\n",
    "In this part, we create our training engine (`CAREamics`) and start training the network."
   ]
  },
  {
   "cell_type": "code",
   "execution_count": null,
   "metadata": {
    "tags": []
   },
   "outputs": [],
   "source": [
    "# create the engine\n",
    "careamist = CAREamist(source=training_config)"
   ]
  },
  {
   "attachments": {},
   "cell_type": "markdown",
   "metadata": {
    "tags": []
   },
   "source": [
    "<div class=\"alert alert-block alert-info\"><h3>Task 2: Which data to choose?</h3>\n",
    "\n",
    "How would you train a network to denoise images of 1 us scan time? Which images do you think could be used as input and which as target?\n",
    "\n",
    "Set the `train_source` and `train_target` accordingly and train the network.\n",
    "\n",
    "</div>"
   ]
  },
  {
   "cell_type": "code",
   "execution_count": null,
   "metadata": {
    "tags": [
     "solution"
    ]
   },
   "outputs": [],
   "source": [
    "# Create the training data and targets pairs\n",
    "data1 = train_image[[2, 2, 2, 2, 2, 3, 3, 3, 3, 3], ...]\n",
    "data2 = train_image[[0, 1, 3, 4, 5, 0, 1, 3, 4, 5], ...]\n",
    "train_source = data1\n",
    "train_target = data2"
   ]
  },
  {
   "cell_type": "code",
   "execution_count": null,
   "id": "9624963f",
   "metadata": {
    "tags": []
   },
   "outputs": [],
   "source": [
    "careamist.train(\n",
    "    train_source=train_source,\n",
    "    train_target=train_target\n",
    ")"
   ]
  },
  {
   "attachments": {},
   "cell_type": "markdown",
   "metadata": {
    "tags": []
   },
   "source": [
    "<div class=\"alert alert-block alert-success\"><h1>Checkpoint 1: Training N2N</h1>\n",
    "</div>\n",
    "\n",
    "\n",
    "<hr style=\"height:2px;\">\n",
    "\n",
    "## Part 4: Prediction"
   ]
  },
  {
   "attachments": {},
   "cell_type": "markdown",
   "metadata": {
    "tags": []
   },
   "source": [
    "Let's load the test data and predict on it to assess how well the network performs!"
   ]
  },
  {
   "cell_type": "code",
   "execution_count": null,
   "metadata": {
    "tags": []
   },
   "outputs": [],
   "source": [
    "# Load images\n",
    "test_image = tifffile.imread(root_path / \"denoising-N2N_SEM.unzip/SEM/test.tif\")"
   ]
  },
  {
   "cell_type": "code",
   "execution_count": null,
   "metadata": {
    "tags": []
   },
   "outputs": [],
   "source": [
    "prediction = careamist.predict(source=test_image[2], tile_size=(256, 256), axes=\"YX\", tta_transforms=False)[0]"
   ]
  },
  {
   "attachments": {},
   "cell_type": "markdown",
   "metadata": {
    "tags": []
   },
   "source": [
    "### Visualize predictions"
   ]
  },
  {
   "cell_type": "code",
   "execution_count": null,
   "metadata": {
    "tags": []
   },
   "outputs": [],
   "source": [
    "fig, ax = plt.subplots(1, 2, figsize=(10, 10), constrained_layout=True)\n",
    "fig.patch.set_facecolor('black')\n",
    "ax[0].imshow(test_image[-1], cmap=\"gray\")\n",
    "ax[0].set_title(\"Test image lowest noise level\", color='white')\n",
    "ax[0].axis(\"off\")\n",
    "ax[1].imshow(prediction[0, 0], cmap=\"gray\")\n",
    "ax[1].set_title(\"Prediction\", color='white')\n",
    "ax[1].axis(\"off\")"
   ]
  },
  {
   "cell_type": "code",
   "execution_count": null,
   "metadata": {
    "tags": []
   },
   "outputs": [],
   "source": [
    "fig, ax = plt.subplots(1, 2, figsize=(15, 15), constrained_layout=True)\n",
    "fig.patch.set_facecolor('black')\n",
    "vmin  = test_image[0].min()\n",
    "vmax = test_image[0].max()\n",
    "ax[0].imshow((prediction.squeeze())[1000:1128, 500:628], cmap=\"gray\",vmin=vmin, vmax=vmax)\n",
    "ax[0].set_title(\"Prediction\", color='white')\n",
    "ax[1].imshow(test_image[-1].squeeze()[1000:1128, 500:628], cmap=\"gray\", vmin=vmin, vmax=vmax)\n",
    "ax[1].set_title(\"Test image lowest noise level\", color='white')\n",
    "ax[0].axis(\"off\")\n",
    "ax[1].axis(\"off\")"
   ]
  },
  {
   "attachments": {},
   "cell_type": "markdown",
   "metadata": {
    "tags": []
   },
   "source": [
    "<div class=\"alert alert-block alert-info\"><h3>Task 3: Different noise pairs</h3>\n",
    "\n",
    "Can you further improve your results by usign different `source` and `target`?\n",
    "\n",
    "How would you train a network to denoise all images, rather than just the 1 us ones?\n",
    "\n",
    "Try it and be creative!\n",
    "\n",
    "</div>"
   ]
  }
 ],
 "metadata": {
  "jupytext": {
   "cell_metadata_filter": "all",
   "main_language": "python"
  },
  "language_info": {
   "codemirror_mode": {
    "name": "ipython",
    "version": 3
   },
   "file_extension": ".py",
   "mimetype": "text/x-python",
   "name": "python",
   "nbconvert_exporter": "python",
   "pygments_lexer": "ipython3",
   "version": "3.10.14"
  }
 },
 "nbformat": 4,
 "nbformat_minor": 2
}
