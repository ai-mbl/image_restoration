{
 "cells": [
  {
   "cell_type": "markdown",
   "id": "0afdc318",
   "metadata": {
    "cell_marker": "\"\"\"",
    "lines_to_next_cell": 0
   },
   "source": [
    "<hr style=\"height:2px;\">\n",
    "\n",
    "# Train Probabilistic Noise2Void\n",
    "\n",
    "Probabilistic Noise2Void, just as N2V, allows training from single noisy images.\n",
    "\n",
    "In order to get some additional quality squeezed out of your noisy input data, PN2V employs an additional noise model which can either be measured directly at your microscope or approximated by a process called ‘bootstrapping’.\n",
    "Below we will give you a noise model for the first network to train and then bootstrap one, so you can apply PN2V to your own data if you'd like.\n",
    "\n",
    "Note: The PN2V implementation is written in pytorch, not Keras/TF.\n",
    "\n",
    "Note: PN2V experienced multiple updates regarding noise model representations. Hence, the [original PN2V repository](https://github.com/juglab/pn2v) is not any more the one we suggest to use (despite it of course working just as described in the original publication). So here we use the [PPN2V repo](https://github.com/juglab/PPN2V) which you installed during setup.\n",
    "\n",
    "<div class=\"alert alert-danger\">\n",
    "Set your python kernel to <code>03_image_restoration_bonus</code>\n",
    "</div>\n",
    "<div class=\"alert alert-danger\">\n",
    "Make sure your previous notebook is shutdown to avoid running into GPU out-of-memory problems.\n",
    "</div>"
   ]
  },
  {
   "cell_type": "code",
   "execution_count": null,
   "id": "0824e4f6",
   "metadata": {},
   "outputs": [],
   "source": [
    "import warnings\n",
    "\n",
    "warnings.filterwarnings(\"ignore\")\n",
    "import torch\n",
    "\n",
    "dtype = torch.float\n",
    "device = torch.device(\"cuda:0\")\n",
    "from torch.distributions import normal\n",
    "import matplotlib.pyplot as plt, numpy as np, pickle\n",
    "from scipy.stats import norm\n",
    "from tifffile import imread\n",
    "import sys\n",
    "import os\n",
    "import urllib\n",
    "import zipfile"
   ]
  },
  {
   "cell_type": "code",
   "execution_count": null,
   "id": "385305a1",
   "metadata": {},
   "outputs": [],
   "source": [
    "from ppn2v.pn2v import histNoiseModel, gaussianMixtureNoiseModel\n",
    "from ppn2v.pn2v.utils import plotProbabilityDistribution, PSNR\n",
    "from ppn2v.unet.model import UNet\n",
    "from ppn2v.pn2v import training, prediction"
   ]
  },
  {
   "cell_type": "markdown",
   "id": "e1910d14",
   "metadata": {
    "cell_marker": "\"\"\""
   },
   "source": [
    "## Data Preperation\n",
    "\n",
    "Here we use a dataset of 2D images of fluorescently labeled membranes of Convallaria (lilly of the valley) acquired with a spinning disk microscope.\n",
    "All 100 recorded images (1024×1024 pixels) show the same region of interest and only differ in their noise."
   ]
  },
  {
   "cell_type": "code",
   "execution_count": null,
   "id": "736e194e",
   "metadata": {
    "lines_to_next_cell": 2
   },
   "outputs": [],
   "source": [
    "# Check that data download was successful\n",
    "assert os.path.exists(\"data/Convallaria_diaphragm\")"
   ]
  },
  {
   "cell_type": "code",
   "execution_count": null,
   "id": "5c4fba28",
   "metadata": {},
   "outputs": [],
   "source": [
    "path = \"data/Convallaria_diaphragm/\"\n",
    "data_name = \"convallaria\"  # Name of the noise model\n",
    "calibration_fn = \"20190726_tl_50um_500msec_wf_130EM_FD.tif\"\n",
    "noisy_fn = \"20190520_tl_25um_50msec_05pc_488_130EM_Conv.tif\"\n",
    "noisy_imgs = imread(path + noisy_fn)\n",
    "calibration_imgs = imread(path + calibration_fn)"
   ]
  },
  {
   "cell_type": "markdown",
   "id": "170901ca",
   "metadata": {
    "cell_marker": "\"\"\"",
    "lines_to_next_cell": 0
   },
   "source": [
    "This notebook has a total of four options to generate a noise model for PN2V. You can pick which one you would like to use (and ignore the tasks in the options you don't wanna use)!\n",
    "\n",
    "There are two types of noise models for PN2V: creating a histogram of the noisy pixels based on the averaged GT or using a gaussian mixture model (GMM).\n",
    "For both we need to provide a clean signal as groundtruth. For the dataset we have here we have calibration data available so you can choose between using the calibration data or bootstrapping the model by training a N2V network."
   ]
  },
  {
   "cell_type": "code",
   "execution_count": null,
   "id": "94726261",
   "metadata": {},
   "outputs": [],
   "source": [
    "n_gaussian = 3  # Number of gaussians to use for Gaussian Mixture Model\n",
    "n_coeff = 2  # No. of polynomial coefficients for parameterizing the mean, standard deviation and weight of Gaussian components."
   ]
  },
  {
   "cell_type": "markdown",
   "id": "059e6f62",
   "metadata": {
    "cell_marker": "\"\"\"",
    "lines_to_next_cell": 0
   },
   "source": [
    "<hr style=\"height:2px;\">\n",
    "\n",
    "## Choice 1: Generate a Noise Model using Calibration Data\n",
    "The noise model is a characteristic of your camera. The downloaded data folder contains a set of calibration images (For the Convallaria dataset, it is ```20190726_tl_50um_500msec_wf_130EM_FD.tif``` and the data to be denoised is named ```20190520_tl_25um_50msec_05pc_488_130EM_Conv.tif```). We can either bin the noisy - GT pairs (obtained from noisy calibration images) as a 2-D histogram or fit a GMM distribution to obtain a smooth, parametric description of the noise model.\n",
    "\n",
    "We will use pairs of noisy calibration observations $x_i$ and clean signal $s_i$ (created by averaging these noisy, calibration images) to estimate the conditional distribution $p(x_i|s_i)$. Histogram-based and Gaussian Mixture Model-based noise models are generated and saved."
   ]
  },
  {
   "cell_type": "code",
   "execution_count": null,
   "id": "fdf3aa76",
   "metadata": {
    "lines_to_next_cell": 0
   },
   "outputs": [],
   "source": [
    "name_hist_noise_model_cal = \"_\".join([\"HistNoiseModel\", data_name, \"calibration\"])\n",
    "name_gmm_noise_model_cal = \"_\".join(\n",
    "    [\"GMMNoiseModel\", data_name, str(n_gaussian), str(n_coeff), \"calibration\"]\n",
    ")"
   ]
  },
  {
   "cell_type": "markdown",
   "id": "0822cb93",
   "metadata": {
    "cell_marker": "\"\"\"",
    "lines_to_next_cell": 0
   },
   "source": [
    "---\n",
    "<div class=\"alert alert-block alert-info\"><h4>\n",
    "    TASK 4.1</h4>\n",
    "    <p>\n",
    "\n",
    "The calibration data contains 100 images of a static sample. Estimate the clean signal by averaging all the images.\n",
    "    </p>\n",
    "</div>"
   ]
  },
  {
   "cell_type": "code",
   "execution_count": null,
   "id": "c008cbeb",
   "metadata": {
    "lines_to_next_cell": 2
   },
   "outputs": [],
   "source": [
    "###TODO###\n",
    "# Average the images in `calibration_imgs`\n",
    "signal_cal = ...  # TODO"
   ]
  },
  {
   "cell_type": "markdown",
   "id": "ac02e03f",
   "metadata": {
    "cell_marker": "\"\"\"",
    "lines_to_next_cell": 0
   },
   "source": [
    "Let's visualize a single image from the observation array alongside the average to see how the raw data compares to the pseudo ground truth signal."
   ]
  },
  {
   "cell_type": "markdown",
   "id": "da4487e2",
   "metadata": {
    "cell_marker": "\"\"\"",
    "lines_to_next_cell": 0
   },
   "source": [
    "---"
   ]
  },
  {
   "cell_type": "code",
   "execution_count": null,
   "id": "0733acf9",
   "metadata": {
    "lines_to_next_cell": 2
   },
   "outputs": [],
   "source": [
    "plt.figure(figsize=(12, 12))\n",
    "plt.subplot(1, 2, 2)\n",
    "plt.title(label=\"average (ground truth)\")\n",
    "plt.imshow(signal_cal[0], cmap=\"gray\")\n",
    "plt.subplot(1, 2, 1)\n",
    "plt.title(label=\"single raw image\")\n",
    "plt.imshow(calibration_imgs[0], cmap=\"gray\")\n",
    "plt.show()"
   ]
  },
  {
   "cell_type": "code",
   "execution_count": null,
   "id": "2684f73e",
   "metadata": {},
   "outputs": [],
   "source": [
    "# The subsequent code expects the signal array to have a dimension for the samples\n",
    "if signal_cal.shape == calibration_imgs.shape[1:]:\n",
    "    signal_cal = signal_cal[np.newaxis, ...]"
   ]
  },
  {
   "cell_type": "markdown",
   "id": "306e51cc",
   "metadata": {
    "cell_marker": "\"\"\"",
    "lines_to_next_cell": 0
   },
   "source": [
    "There are two ways of generating a noise model for PN2V: creating a histogram of the noisy pixels based on the averaged GT or using a gaussian mixture model (GMM). You can pick which one you wanna use!\n",
    "\n",
    "<hr style=\"height:1px;\">\n",
    "\n",
    "### Choice 1A: Creating the Histogram Noise Model\n",
    "Using the raw pixels $x_i$, and our averaged GT $s_i$, we are now learning a histogram based noise model. It describes the distribution $p(x_i|s_i)$ for each $s_i$.\n",
    "\n",
    "---\n",
    "<div class=\"alert alert-block alert-info\"><h4>\n",
    "    TASK 4.2</h4>\n",
    "    <p>\n",
    "        Look at the docstring for <tt>createHistogram</tt> and use it to create a histogram based on the calibration data using the clean signal you created by averaging as groundtruth.    </p>\n",
    "</div>"
   ]
  },
  {
   "cell_type": "code",
   "execution_count": null,
   "id": "d679cac8",
   "metadata": {},
   "outputs": [],
   "source": [
    "?histNoiseModel.createHistogram"
   ]
  },
  {
   "cell_type": "code",
   "execution_count": null,
   "id": "137d0016",
   "metadata": {},
   "outputs": [],
   "source": [
    "###TODO###\n",
    "# Define the parameters for the histogram creation\n",
    "bins = 256\n",
    "# Values falling outside the range [min_val, max_val] are not included in the histogram, so the values in the images you want to denoise should fall within that range\n",
    "min_val = ...  # TODO\n",
    "max_val = ...  # TODO\n",
    "# Create the histogram\n",
    "histogram_cal = histNoiseModel.createHistogram(bins, ...)  # TODO"
   ]
  },
  {
   "cell_type": "markdown",
   "id": "69974416",
   "metadata": {
    "cell_marker": "\"\"\"",
    "lines_to_next_cell": 0
   },
   "source": [
    "---"
   ]
  },
  {
   "cell_type": "code",
   "execution_count": null,
   "id": "c7e3a5a3",
   "metadata": {},
   "outputs": [],
   "source": [
    "# Saving histogram to disk.\n",
    "np.save(path + name_hist_noise_model_cal + \".npy\", histogram_cal)\n",
    "histogramFD_cal = histogram_cal[0]"
   ]
  },
  {
   "cell_type": "code",
   "execution_count": null,
   "id": "a7347fa6",
   "metadata": {},
   "outputs": [],
   "source": [
    "# Let's look at the histogram-based noise model.\n",
    "plt.xlabel(\"Observation Bin\")\n",
    "plt.ylabel(\"Signal Bin\")\n",
    "plt.imshow(histogramFD_cal**0.25, cmap=\"gray\")\n",
    "plt.show()"
   ]
  },
  {
   "cell_type": "markdown",
   "id": "38a5669e",
   "metadata": {
    "cell_marker": "\"\"\"",
    "lines_to_next_cell": 0
   },
   "source": [
    "<hr style=\"height:1px;\">\n",
    "\n",
    "### Choice 1B: Creating the GMM noise model\n",
    "Using the raw pixels $x_i$, and our averaged GT $s_i$, we are now learning a GMM based noise model. It describes the distribution $p(x_i|s_i)$ for each $s_i$."
   ]
  },
  {
   "cell_type": "code",
   "execution_count": null,
   "id": "2ce0ea8d",
   "metadata": {},
   "outputs": [],
   "source": [
    "min_signal = np.min(signal_cal)\n",
    "max_signal = np.max(signal_cal)\n",
    "print(\"Minimum Signal Intensity is\", min_signal)\n",
    "print(\"Maximum Signal Intensity is\", max_signal)"
   ]
  },
  {
   "cell_type": "markdown",
   "id": "ff82d9a2",
   "metadata": {
    "cell_marker": "\"\"\"",
    "lines_to_next_cell": 0
   },
   "source": [
    "Iterating the noise model training for `n_epoch=2000` and `batchSize=250000` works the best for `Convallaria` dataset."
   ]
  },
  {
   "cell_type": "code",
   "execution_count": null,
   "id": "3e4e704e",
   "metadata": {
    "lines_to_next_cell": 0
   },
   "outputs": [],
   "source": [
    "?gaussianMixtureNoiseModel.GaussianMixtureNoiseModel"
   ]
  },
  {
   "cell_type": "code",
   "execution_count": null,
   "id": "164a70e5",
   "metadata": {
    "lines_to_next_cell": 0
   },
   "outputs": [],
   "source": [
    "gmm_noise_model_cal = gaussianMixtureNoiseModel.GaussianMixtureNoiseModel(\n",
    "    min_signal=min_signal,\n",
    "    max_signal=max_signal,\n",
    "    path=path,\n",
    "    weight=None,\n",
    "    n_gaussian=n_gaussian,\n",
    "    n_coeff=n_coeff,\n",
    "    min_sigma=50,\n",
    "    device=device,\n",
    ")"
   ]
  },
  {
   "cell_type": "code",
   "execution_count": null,
   "id": "e3614cbc",
   "metadata": {
    "lines_to_next_cell": 0
   },
   "outputs": [],
   "source": [
    "gmm_noise_model_cal.train(\n",
    "    signal_cal,\n",
    "    calibration_imgs,\n",
    "    batchSize=250000,\n",
    "    n_epochs=2000,\n",
    "    learning_rate=0.1,\n",
    "    name=name_gmm_noise_model_cal,\n",
    ")"
   ]
  },
  {
   "cell_type": "markdown",
   "id": "c7890e1c",
   "metadata": {
    "cell_marker": "\"\"\"",
    "lines_to_next_cell": 0
   },
   "source": [
    "<hr style=\"height:1px;\">\n",
    "\n",
    "### Visualizing the Histogram-based and GMM-based noise models\n",
    "\n",
    "This only works if you generated both a histogram (Choice 1A) and GMM-based (Choice 1B) noise model"
   ]
  },
  {
   "cell_type": "code",
   "execution_count": null,
   "id": "0b7e3b11",
   "metadata": {
    "lines_to_next_cell": 0
   },
   "outputs": [],
   "source": [
    "plotProbabilityDistribution(\n",
    "    signalBinIndex=170,\n",
    "    histogram=histogramFD_cal,\n",
    "    gaussianMixtureNoiseModel=gmm_noise_model_cal,\n",
    "    min_signal=min_val,\n",
    "    max_signal=max_val,\n",
    "    n_bin=bins,\n",
    "    device=device,\n",
    ")"
   ]
  },
  {
   "cell_type": "markdown",
   "id": "2027732d",
   "metadata": {
    "cell_marker": "\"\"\"",
    "lines_to_next_cell": 0
   },
   "source": [
    "<hr style=\"height:2px;\">\n",
    "\n",
    "## Choice 2: Generate a Noise Model by Bootstrapping\n",
    "\n",
    "Here we bootstrap a suitable histogram noise model and a GMM noise model after denoising the noisy images with Noise2Void and then using these denoised images as pseudo GT.\n",
    "So first, we need to train a N2V model (now with pytorch) to estimate the conditional distribution $p(x_i|s_i)$. No additional calibration data is used for bootstrapping (so no need to use `calibration_imgs` or `singal_cal` again)."
   ]
  },
  {
   "cell_type": "code",
   "execution_count": null,
   "id": "ec7c914d",
   "metadata": {},
   "outputs": [],
   "source": [
    "model_name = data_name + \"_n2v\"\n",
    "name_hist_noise_model_bootstrap = \"_\".join([\"HistNoiseModel\", data_name, \"bootstrap\"])\n",
    "name_gmm_noise_model_bootstrap = \"_\".join(\n",
    "    [\"GMMNoiseModel\", data_name, str(n_gaussian), str(n_coeff), \"bootstrap\"]\n",
    ")"
   ]
  },
  {
   "cell_type": "code",
   "execution_count": null,
   "id": "62c693a7",
   "metadata": {},
   "outputs": [],
   "source": [
    "# Configure the Noise2Void network\n",
    "n2v_net = UNet(1, depth=3)"
   ]
  },
  {
   "cell_type": "code",
   "execution_count": null,
   "id": "6f49581f",
   "metadata": {},
   "outputs": [],
   "source": [
    "# Prepare training+validation data\n",
    "train_data = noisy_imgs[:-5].copy()\n",
    "val_data = noisy_imgs[-5:].copy()\n",
    "np.random.shuffle(train_data)\n",
    "np.random.shuffle(val_data)"
   ]
  },
  {
   "cell_type": "code",
   "execution_count": null,
   "id": "cf91b423",
   "metadata": {},
   "outputs": [],
   "source": [
    "train_history, val_history = training.trainNetwork(\n",
    "    net=n2v_net,\n",
    "    trainData=train_data,\n",
    "    valData=val_data,\n",
    "    postfix=model_name,\n",
    "    directory=path,\n",
    "    noiseModel=None,\n",
    "    device=device,\n",
    "    numOfEpochs=200,\n",
    "    stepsPerEpoch=10,\n",
    "    virtualBatchSize=20,\n",
    "    batchSize=1,\n",
    "    learningRate=1e-3,\n",
    ")"
   ]
  },
  {
   "cell_type": "code",
   "execution_count": null,
   "id": "cf5cadb2",
   "metadata": {},
   "outputs": [],
   "source": [
    "# Let's look at the training and validation loss\n",
    "plt.xlabel(\"epoch\")\n",
    "plt.ylabel(\"loss\")\n",
    "plt.plot(val_history, label=\"validation loss\")\n",
    "plt.plot(train_history, label=\"training loss\")\n",
    "plt.legend()\n",
    "plt.show()"
   ]
  },
  {
   "cell_type": "code",
   "execution_count": null,
   "id": "3a71baf1",
   "metadata": {},
   "outputs": [],
   "source": [
    "# We now run the N2V model to create pseudo groundtruth.\n",
    "n2v_result_imgs = []\n",
    "n2v_input_imgs = []\n",
    "\n",
    "for index in range(noisy_imgs.shape[0]):\n",
    "    im = noisy_imgs[index]\n",
    "    # We are using tiling to fit the image into memory\n",
    "    # If you get an error try a smaller patch size (ps)\n",
    "    n2v_pred = prediction.tiledPredict(\n",
    "        im, n2v_net, ps=256, overlap=48, device=device, noiseModel=None\n",
    "    )\n",
    "    n2v_result_imgs.append(n2v_pred)\n",
    "    n2v_input_imgs.append(im)\n",
    "    if index % 10 == 0:\n",
    "        print(\"image:\", index)"
   ]
  },
  {
   "cell_type": "code",
   "execution_count": null,
   "id": "593583d7",
   "metadata": {
    "lines_to_next_cell": 0
   },
   "outputs": [],
   "source": [
    "# In bootstrap mode, we estimate pseudo GT by using N2V denoised images.\n",
    "signal_bootstrap = np.array(n2v_result_imgs)\n",
    "# Let's look the raw data and our pseudo ground truth signal\n",
    "print(signal_bootstrap.shape)\n",
    "plt.figure(figsize=(12, 12))\n",
    "plt.subplot(2, 2, 2)\n",
    "plt.title(label=\"pseudo GT (generated by N2V denoising)\")\n",
    "plt.imshow(signal_bootstrap[0], cmap=\"gray\")\n",
    "plt.subplot(2, 2, 4)\n",
    "plt.imshow(signal_bootstrap[0, -128:, -128:], cmap=\"gray\")\n",
    "plt.subplot(2, 2, 1)\n",
    "plt.title(label=\"single raw image\")\n",
    "plt.imshow(noisy_imgs[0], cmap=\"gray\")\n",
    "plt.subplot(2, 2, 3)\n",
    "plt.imshow(noisy_imgs[0, -128:, -128:], cmap=\"gray\")\n",
    "plt.show()"
   ]
  },
  {
   "cell_type": "markdown",
   "id": "fba4d459",
   "metadata": {
    "cell_marker": "\"\"\"",
    "lines_to_next_cell": 0
   },
   "source": [
    "Now that we have pseudoGT, you can pick again between a histogram based noise model and a GMM noise model\n",
    "\n",
    "<hr style=\"height:1px;\">\n",
    "\n",
    "### Choice 2A: Creating the Histogram Noise Model\n",
    "\n",
    "---\n",
    "<div class=\"alert alert-block alert-info\"><h4>\n",
    "    TASK 4.3</h4>\n",
    "    <p>\n",
    "    If you've already done Task 4.2, this is very similar!\n",
    "        Look at the docstring for <tt>createHistogram</tt> and use it to create a histogram using the bootstraped signal you created from the N2V predictions.\n",
    "    </p>\n",
    "</div>"
   ]
  },
  {
   "cell_type": "code",
   "execution_count": null,
   "id": "c4727272",
   "metadata": {
    "lines_to_next_cell": 0
   },
   "outputs": [],
   "source": [
    "?histNoiseModel.createHistogram"
   ]
  },
  {
   "cell_type": "code",
   "execution_count": null,
   "id": "622d287a",
   "metadata": {
    "lines_to_next_cell": 0
   },
   "outputs": [],
   "source": [
    "###TODO###\n",
    "# Define the parameters for the histogram creation\n",
    "bins = 256\n",
    "# Values falling outside the range [min_val, max_val] are not included in the histogram, so the values in the images you want to denoise should fall within that range\n",
    "min_val = ...  # TODO\n",
    "max_val = ...  # TODO\n",
    "# Create the histogram\n",
    "histogram_bootstrap = histNoiseModel.createHistogram(bins, ...)  # TODO"
   ]
  },
  {
   "cell_type": "markdown",
   "id": "a8c12a72",
   "metadata": {
    "cell_marker": "\"\"\"",
    "lines_to_next_cell": 0
   },
   "source": [
    "---"
   ]
  },
  {
   "cell_type": "code",
   "execution_count": null,
   "id": "793c14a5",
   "metadata": {
    "lines_to_next_cell": 0
   },
   "outputs": [],
   "source": [
    "# Saving histogram to disk.\n",
    "np.save(path + name_hist_noise_model_bootstrap + \".npy\", histogram_bootstrap)\n",
    "histogramFD_bootstrap = histogram_bootstrap[0]"
   ]
  },
  {
   "cell_type": "code",
   "execution_count": null,
   "id": "69037ef6",
   "metadata": {},
   "outputs": [],
   "source": [
    "# Let's look at the histogram-based noise model\n",
    "plt.xlabel(\"Observation Bin\")\n",
    "plt.ylabel(\"Signal Bin\")\n",
    "plt.imshow(histogramFD_bootstrap**0.25, cmap=\"gray\")\n",
    "plt.show()"
   ]
  },
  {
   "cell_type": "markdown",
   "id": "1f8c44de",
   "metadata": {
    "cell_marker": "\"\"\"",
    "lines_to_next_cell": 0
   },
   "source": [
    "<hr style=\"height:1px;\">\n",
    "\n",
    "### Choice 2B: Creating the GMM noise model\n",
    "Using the raw pixels $x_i$, and our averaged GT $s_i$, we are now learning a GMM based noise model. It describes the distribution $p(x_i|s_i)$ for each $s_i$."
   ]
  },
  {
   "cell_type": "code",
   "execution_count": null,
   "id": "f16678bb",
   "metadata": {
    "lines_to_next_cell": 0
   },
   "outputs": [],
   "source": [
    "min_signal = np.percentile(signal_bootstrap, 0.5)\n",
    "max_signal = np.percentile(signal_bootstrap, 99.5)\n",
    "print(\"Minimum Signal Intensity is\", min_signal)\n",
    "print(\"Maximum Signal Intensity is\", max_signal)"
   ]
  },
  {
   "cell_type": "markdown",
   "id": "e4fe8d77",
   "metadata": {
    "cell_marker": "\"\"\"",
    "lines_to_next_cell": 0
   },
   "source": [
    "Iterating the noise model training for `n_epoch=2000` and `batchSize=250000` works the best for `Convallaria` dataset."
   ]
  },
  {
   "cell_type": "code",
   "execution_count": null,
   "id": "d4757a77",
   "metadata": {
    "lines_to_next_cell": 0
   },
   "outputs": [],
   "source": [
    "gmm_noise_model_bootstrap = gaussianMixtureNoiseModel.GaussianMixtureNoiseModel(\n",
    "    min_signal=min_signal,\n",
    "    max_signal=max_signal,\n",
    "    path=path,\n",
    "    weight=None,\n",
    "    n_gaussian=n_gaussian,\n",
    "    n_coeff=n_coeff,\n",
    "    device=device,\n",
    "    min_sigma=50,\n",
    ")"
   ]
  },
  {
   "cell_type": "code",
   "execution_count": null,
   "id": "e66d79cf",
   "metadata": {
    "lines_to_next_cell": 0
   },
   "outputs": [],
   "source": [
    "gmm_noise_model_bootstrap.train(\n",
    "    signal_bootstrap,\n",
    "    noisy_imgs,\n",
    "    batchSize=250000,\n",
    "    n_epochs=2000,\n",
    "    learning_rate=0.1,\n",
    "    name=name_gmm_noise_model_bootstrap,\n",
    "    lowerClip=0.5,\n",
    "    upperClip=99.5,\n",
    ")"
   ]
  },
  {
   "cell_type": "markdown",
   "id": "10579ce6",
   "metadata": {
    "cell_marker": "\"\"\"",
    "lines_to_next_cell": 0
   },
   "source": [
    "### Visualizing the Histogram-based and GMM-based noise models\n",
    "\n",
    "This only works if you generated both a histogram (Choice 2A) and GMM-based (Choice 2B) noise model"
   ]
  },
  {
   "cell_type": "code",
   "execution_count": null,
   "id": "c42f0421",
   "metadata": {
    "lines_to_next_cell": 0
   },
   "outputs": [],
   "source": [
    "plotProbabilityDistribution(\n",
    "    signalBinIndex=170,\n",
    "    histogram=histogramFD_bootstrap,\n",
    "    gaussianMixtureNoiseModel=gmm_noise_model_bootstrap,\n",
    "    min_signal=min_val,\n",
    "    max_signal=max_val,\n",
    "    n_bin=bins,\n",
    "    device=device,\n",
    ")"
   ]
  },
  {
   "cell_type": "markdown",
   "id": "6d114717",
   "metadata": {
    "cell_marker": "\"\"\"",
    "lines_to_next_cell": 0
   },
   "source": [
    "<hr style=\"height:2px;\">\n",
    "\n",
    "## PN2V Training\n",
    "\n",
    "---\n",
    "<div class=\"alert alert-block alert-info\"><h4>\n",
    "    TASK 4.4</h4>\n",
    "    <p>\n",
    "    Adapt to use the noise model of your choice here to then train PN2V with.\n",
    "    </p>\n",
    "</div>"
   ]
  },
  {
   "cell_type": "code",
   "execution_count": null,
   "id": "e8cd59ee",
   "metadata": {},
   "outputs": [],
   "source": [
    "###TODO###\n",
    "noise_model_type = \"gmm\"  # pick: \"hist\" or \"gmm\"\n",
    "noise_model_data = \"bootstrap\"  # pick: \"calibration\" or \"bootstrap\""
   ]
  },
  {
   "cell_type": "markdown",
   "id": "caa67365",
   "metadata": {
    "cell_marker": "\"\"\"",
    "lines_to_next_cell": 0
   },
   "source": [
    "---"
   ]
  },
  {
   "cell_type": "code",
   "execution_count": null,
   "id": "4b123dff",
   "metadata": {
    "lines_to_next_cell": 0
   },
   "outputs": [],
   "source": [
    "# Create a network with 800 output channels that are interpreted as samples from the prior.\n",
    "pn2v_net = UNet(800, depth=3)"
   ]
  },
  {
   "cell_type": "code",
   "execution_count": null,
   "id": "3fb2b6b1",
   "metadata": {
    "lines_to_next_cell": 0
   },
   "outputs": [],
   "source": [
    "# Start training.\n",
    "trainHist, valHist = training.trainNetwork(\n",
    "    net=pn2v_net,\n",
    "    trainData=train_data,\n",
    "    valData=val_data,\n",
    "    postfix=noise_model_name,\n",
    "    directory=path,\n",
    "    noiseModel=noise_model,\n",
    "    device=device,\n",
    "    numOfEpochs=200,\n",
    "    stepsPerEpoch=5,\n",
    "    virtualBatchSize=20,\n",
    "    batchSize=1,\n",
    "    learningRate=1e-3,\n",
    ")"
   ]
  },
  {
   "cell_type": "markdown",
   "id": "76cd8283",
   "metadata": {
    "cell_marker": "\"\"\"",
    "lines_to_next_cell": 0
   },
   "source": [
    "<hr style=\"height:2px;\">\n",
    "\n",
    "## PN2V Evaluation"
   ]
  },
  {
   "cell_type": "code",
   "execution_count": null,
   "id": "11ea5d2e",
   "metadata": {},
   "outputs": [],
   "source": [
    "test_data = noisy_imgs[\n",
    "    :, :512, :512\n",
    "]  # We are loading only a sub image to speed up computation"
   ]
  },
  {
   "cell_type": "code",
   "execution_count": null,
   "id": "17537519",
   "metadata": {},
   "outputs": [],
   "source": [
    "# We estimate the ground truth by averaging.\n",
    "test_data_gt = np.mean(test_data[:, ...], axis=0)[np.newaxis, ...]"
   ]
  },
  {
   "cell_type": "code",
   "execution_count": null,
   "id": "d69a5299",
   "metadata": {},
   "outputs": [],
   "source": [
    "pn2v_net = torch.load(path + \"/last_\" + noise_model_name + \".net\")"
   ]
  },
  {
   "cell_type": "code",
   "execution_count": null,
   "id": "fe8381dc",
   "metadata": {},
   "outputs": [],
   "source": [
    "# Now we are processing data and calculating PSNR values.\n",
    "mmse_psnrs = []\n",
    "prior_psnrs = []\n",
    "input_psnrs = []\n",
    "result_ims = []\n",
    "input_ims = []\n",
    "\n",
    "# We iterate over all test images.\n",
    "for index in range(test_data.shape[0]):\n",
    "    im = test_data[index]\n",
    "    gt = test_data_gt[0]  # The ground truth is the same for all images\n",
    "\n",
    "    # We are using tiling to fit the image into memory\n",
    "    # If you get an error try a smaller patch size (ps)\n",
    "    means, mse_est = prediction.tiledPredict(\n",
    "        im, pn2v_net, ps=192, overlap=48, device=device, noiseModel=noise_model\n",
    "    )\n",
    "\n",
    "    result_ims.append(mse_est)\n",
    "    input_ims.append(im)\n",
    "\n",
    "    range_psnr = np.max(gt) - np.min(gt)\n",
    "    psnr = PSNR(gt, mse_est, range_psnr)\n",
    "    psnr_prior = PSNR(gt, means, range_psnr)\n",
    "    input_psnr = PSNR(gt, im, range_psnr)\n",
    "    mmse_psnrs.append(psnr)\n",
    "    prior_psnrs.append(psnr_prior)\n",
    "    input_psnrs.append(input_psnr)\n",
    "\n",
    "    print(\"image:\", index)\n",
    "    print(\"PSNR input\", input_psnr)\n",
    "    print(\"PSNR prior\", psnr_prior)  # Without info from masked pixel\n",
    "    print(\"PSNR mse\", psnr)  # MMSE estimate using the masked pixel\n",
    "    print(\"-----------------------------------\")"
   ]
  },
  {
   "cell_type": "code",
   "execution_count": null,
   "id": "1bbd43a4",
   "metadata": {},
   "outputs": [],
   "source": [
    "?prediction.tiledPredict"
   ]
  },
  {
   "cell_type": "code",
   "execution_count": null,
   "id": "66c4e935",
   "metadata": {},
   "outputs": [],
   "source": [
    "# We display the results for the last test image\n",
    "vmi = np.percentile(gt, 0.01)\n",
    "vma = np.percentile(gt, 99)\n",
    "\n",
    "plt.figure(figsize=(15, 15))\n",
    "plt.subplot(1, 3, 1)\n",
    "plt.title(label=\"Input Image\")\n",
    "plt.imshow(im, vmax=vma, vmin=vmi, cmap=\"magma\")\n",
    "\n",
    "plt.subplot(1, 3, 2)\n",
    "plt.title(label=\"Avg. Prior\")\n",
    "plt.imshow(means, vmax=vma, vmin=vmi, cmap=\"magma\")\n",
    "\n",
    "plt.subplot(1, 3, 3)\n",
    "plt.title(label=\"PN2V-MMSE estimate\")\n",
    "plt.imshow(mse_est, vmax=vma, vmin=vmi, cmap=\"magma\")\n",
    "plt.show()\n",
    "\n",
    "plt.figure(figsize=(15, 15))\n",
    "plt.subplot(1, 3, 1)\n",
    "plt.title(label=\"Input Image\")\n",
    "plt.imshow(im[100:200, 150:250], vmax=vma, vmin=vmi, cmap=\"magma\")\n",
    "plt.axhline(y=50, linewidth=3, color=\"white\", alpha=0.5, ls=\"--\")\n",
    "\n",
    "plt.subplot(1, 3, 2)\n",
    "plt.title(label=\"Avg. Prior\")\n",
    "plt.imshow(means[100:200, 150:250], vmax=vma, vmin=vmi, cmap=\"magma\")\n",
    "plt.axhline(y=50, linewidth=3, color=\"white\", alpha=0.5, ls=\"--\")\n",
    "\n",
    "plt.subplot(1, 3, 3)\n",
    "plt.title(label=\"PN2V-MMSE estimate\")\n",
    "plt.imshow(mse_est[100:200, 150:250], vmax=vma, vmin=vmi, cmap=\"magma\")\n",
    "plt.axhline(y=50, linewidth=3, color=\"white\", alpha=0.5, ls=\"--\")\n",
    "\n",
    "\n",
    "plt.figure(figsize=(15, 5))\n",
    "plt.plot(im[150, 150:250], label=\"Input Image\")\n",
    "plt.plot(means[150, 150:250], label=\"Avg. Prior\")\n",
    "plt.plot(mse_est[150, 150:250], label=\"PN2V-MMSE estimate\")\n",
    "plt.plot(gt[150, 150:250], label=\"Pseudo GT by averaging\")\n",
    "plt.legend()\n",
    "\n",
    "plt.show()\n",
    "print(\n",
    "    \"Avg PSNR Prior:\",\n",
    "    np.mean(np.array(prior_psnrs)),\n",
    "    \"+-(2SEM)\",\n",
    "    2 * np.std(np.array(prior_psnrs)) / np.sqrt(float(len(prior_psnrs))),\n",
    ")\n",
    "print(\n",
    "    \"Avg PSNR MMSE:\",\n",
    "    np.mean(np.array(mmse_psnrs)),\n",
    "    \"+-(2SEM)\",\n",
    "    2 * np.std(np.array(mmse_psnrs)) / np.sqrt(float(len(mmse_psnrs))),\n",
    ")"
   ]
  },
  {
   "cell_type": "markdown",
   "id": "4e0d468f",
   "metadata": {
    "cell_marker": "\"\"\""
   },
   "source": [
    "---\n",
    "---\n",
    "<div class=\"alert alert-block alert-info\"><h4>\n",
    "    TASK 4.5</h4>\n",
    "    <p>\n",
    "    Try PN2V for your own data! You probably don't have calibration data, but with the bootstrapping method you don't need any!\n",
    "    </p>\n",
    "</div>\n",
    "\n",
    "---\n",
    "\n",
    "<hr style=\"height:2px;\">\n",
    "<div class=\"alert alert-block alert-success\"><h1>\n",
    "    Congratulations!</h1>\n",
    "    <p>\n",
    "    <b>You have completed the bonus exercise!</b>\n",
    "    </p>\n",
    "</div>"
   ]
  }
 ],
 "metadata": {
  "jupytext": {
   "cell_metadata_filter": "all",
   "main_language": "python"
  }
 },
 "nbformat": 4,
 "nbformat_minor": 5
}
