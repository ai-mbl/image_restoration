{
 "cells": [
  {
   "cell_type": "markdown",
   "id": "cea8b9af",
   "metadata": {
    "cell_marker": "\"\"\"",
    "lines_to_next_cell": 0
   },
   "source": [
    "<hr style=\"height:2px;\">\n",
    "\n",
    "# Train a Noise2Noise network with CARE\n",
    "<div class=\"alert alert-danger\">\n",
    "Set your python kernel to <code>03_image_restoration_part1</code>! That's the same as for the first notebook.\n",
    "</div>\n",
    "\n",
    "We will now train a 2D Noise2Noise network using CARE. We will closely follow along the previous example but now you will have to fill in some parts on your own!\n",
    "You will have to make decisions - make them!\n",
    "\n",
    "But first some clean up...\n",
    "<div class=\"alert alert-danger\">\n",
    "Make sure your previous notebook is shutdown to avoid running into GPU out-of-memory problems.\n",
    "</div>\n",
    "\n",
    "![](nb_material/notebook_shutdown.png)"
   ]
  },
  {
   "cell_type": "code",
   "execution_count": null,
   "id": "025daa88",
   "metadata": {},
   "outputs": [],
   "source": [
    "from __future__ import absolute_import, division, print_function, unicode_literals\n",
    "\n",
    "import gc\n",
    "import os\n",
    "\n",
    "import matplotlib.pyplot as plt\n",
    "import numpy as np\n",
    "from csbdeep.data import RawData, create_patches\n",
    "from csbdeep.io import load_training_data, save_tiff_imagej_compatible\n",
    "from csbdeep.models import CARE, Config\n",
    "from csbdeep.utils import (\n",
    "    Path,\n",
    "    axes_dict,\n",
    "    plot_history,\n",
    "    plot_some,\n",
    ")\n",
    "from csbdeep.utils.tf import limit_gpu_memory\n",
    "\n",
    "%matplotlib inline\n",
    "%load_ext tensorboard\n",
    "%config InlineBackend.figure_format = 'retina'\n",
    "from skimage.metrics import peak_signal_noise_ratio, structural_similarity\n",
    "from tifffile import imread, imwrite"
   ]
  },
  {
   "cell_type": "markdown",
   "id": "aac4a44b",
   "metadata": {
    "cell_marker": "\"\"\"",
    "lines_to_next_cell": 0
   },
   "source": [
    "<hr style=\"height:2px;\">\n",
    "\n",
    "## Part 1: Training Data Generation\n",
    "\n",
    "### Download example data\n",
    "\n",
    "To train a Noise2Noise setup we need several acquisitions of the same sample.\n",
    "The SEM data we downloaded during setup contains 2 tiff-stacks, one for training and one for testing, let's make sure it's there!"
   ]
  },
  {
   "cell_type": "code",
   "execution_count": null,
   "id": "22f38e4c",
   "metadata": {},
   "outputs": [],
   "source": [
    "assert os.path.exists(\"data/SEM/train/train.tif\")\n",
    "assert os.path.exists(\"data/SEM/test/test.tif\")"
   ]
  },
  {
   "cell_type": "markdown",
   "id": "f97732d7",
   "metadata": {},
   "source": [
    "Let's have a look at the data!\n",
    "Each image is a tiff stack containing 7 images of the same tissue recorded with different scan time settings of a Scanning Electron Miscroscope (SEM). The faster a SEM image is scanned, the noisier it gets."
   ]
  },
  {
   "cell_type": "code",
   "execution_count": null,
   "id": "179994ed",
   "metadata": {},
   "outputs": [],
   "source": [
    "imgs = imread(\"data/SEM/train/train.tif\")\n",
    "x_size = imgs.shape\n",
    "print(\"image size =\", x_size)\n",
    "scantimes_all = [\"0.2us\", \"0.5us\", \"1us\", \"1us\", \"2.1us\", \"5us\", \"5us, avg of 4\"]\n",
    "plt.figure(figsize=(40, 16))\n",
    "plot_some(imgs, title_list=[scantimes_all], pmin=0.2, pmax=99.8, cmap=\"gray_r\")"
   ]
  },
  {
   "cell_type": "markdown",
   "id": "2281c709",
   "metadata": {},
   "source": [
    "---\n",
    "<div class=\"alert alert-block alert-info\"><h4>\n",
    "    TASK 2.1:</h4>\n",
    "    <p>\n",
    "    The noise level is hard to see at this zoom level. Let's also look at a smaller crop of them! Play around with this until you have a feeling for what the data looks like.\n",
    "    </p>\n",
    "</div>"
   ]
  },
  {
   "cell_type": "code",
   "execution_count": null,
   "id": "9e99ed16",
   "metadata": {
    "lines_to_next_cell": 0
   },
   "outputs": [],
   "source": [
    "###TODO###\n",
    "\n",
    "imgs_cropped = ...  # TODO"
   ]
  },
  {
   "cell_type": "code",
   "execution_count": null,
   "id": "d43935a5",
   "metadata": {},
   "outputs": [],
   "source": [
    "plt.figure(figsize=(40, 16))\n",
    "plot_some(imgs_cropped, title_list=[scantimes_all], pmin=0.2, pmax=99.8, cmap=\"gray_r\")"
   ]
  },
  {
   "cell_type": "markdown",
   "id": "7ca8de85",
   "metadata": {
    "cell_marker": "\"\"\"",
    "lines_to_next_cell": 0
   },
   "source": [
    "---"
   ]
  },
  {
   "cell_type": "code",
   "execution_count": null,
   "id": "7ac1fcbe",
   "metadata": {},
   "outputs": [],
   "source": [
    "# checking that you didn't crop x_train itself, we still need that!\n",
    "assert imgs.shape == x_size"
   ]
  },
  {
   "cell_type": "markdown",
   "id": "9790ecf5",
   "metadata": {
    "cell_marker": "\"\"\"",
    "lines_to_next_cell": 0
   },
   "source": [
    "As you can see the last image, which is the average of 4 images with 5us scantime, has the highest signal-to-noise-ratio. It is not noise-free but our best choice to be able to compare our results against quantitatively, so we will set it aside for that purpose."
   ]
  },
  {
   "cell_type": "code",
   "execution_count": null,
   "id": "4b37e575",
   "metadata": {},
   "outputs": [],
   "source": [
    "scantimes, scantime_highSNR = scantimes_all[:-1], scantimes_all[-1]\n",
    "x_train, x_highSNR = imgs[:-1], imgs[-1]\n",
    "print(scantimes, scantime_highSNR)\n",
    "print(x_train.shape, x_highSNR.shape)"
   ]
  },
  {
   "cell_type": "markdown",
   "id": "96145f4c",
   "metadata": {
    "cell_marker": "\"\"\"",
    "lines_to_next_cell": 0
   },
   "source": [
    "### Generate training data for CARE\n",
    "\n",
    "Let's try and train a network to denoise images of $1 \\mu s$ scan time!\n",
    "Which images do you think could be used as input and which as target?\n",
    "\n",
    "---\n",
    "<div class=\"alert alert-block alert-info\"><h4>\n",
    "    TASK 2.2:</h4>\n",
    "    <p>\n",
    "    Decide which images to use as inputs and which as targets. Then, remember from part one how the data has to be organized to match up inputs and targets.\n",
    "    </p>\n",
    "</div>"
   ]
  },
  {
   "cell_type": "code",
   "execution_count": null,
   "id": "bd0577e4",
   "metadata": {
    "lines_to_next_cell": 0
   },
   "outputs": [],
   "source": [
    "###TODO###\n",
    "base_path = \"data/SEM/train\"\n",
    "source_dir = os.path.join(base_path, \"\")  # pick path in which to save inputs\n",
    "target_dir = os.path.join(base_path, \"\")  # pick path in which to save targets"
   ]
  },
  {
   "cell_type": "code",
   "execution_count": null,
   "id": "c5d144b6",
   "metadata": {},
   "outputs": [],
   "source": [
    "os.makedirs(source_dir, exist_ok=True)\n",
    "os.makedirs(target_dir, exist_ok=True)"
   ]
  },
  {
   "cell_type": "code",
   "execution_count": null,
   "id": "9c638fde",
   "metadata": {
    "lines_to_next_cell": 0
   },
   "outputs": [],
   "source": [
    "# Now save individual images into these directories\n",
    "# You can use the imwrite function to save images. The ? command will pull up the docstring\n",
    "?imwrite"
   ]
  },
  {
   "cell_type": "markdown",
   "id": "5b7a294b",
   "metadata": {
    "cell_marker": "\"\"\"",
    "lines_to_next_cell": 0
   },
   "source": [
    "<span style=\"color:blue;font-weight:bold;\">Hint</span>: The tiff file you read earlier contained 7 images for the different instances. Here, use a single tiff file per image."
   ]
  },
  {
   "cell_type": "markdown",
   "id": "fdff12ec",
   "metadata": {
    "cell_marker": "\"\"\"",
    "lines_to_next_cell": 0
   },
   "source": [
    "<span style=\"color:blue;font-weight:bold;\">Hint</span>: Remember we're trying to train a Noise2Noise network here, so the target does not need to be clean."
   ]
  },
  {
   "cell_type": "code",
   "execution_count": null,
   "id": "6294e0d1",
   "metadata": {},
   "outputs": [],
   "source": [
    "###TODO###\n",
    "\n",
    "# Put the pairs of input and target images into the `source_dir` and `target_dir`, respectively.\n",
    "# The goal here is to the train a network for 1 us scan time."
   ]
  },
  {
   "cell_type": "markdown",
   "id": "6d467386",
   "metadata": {
    "cell_marker": "\"\"\""
   },
   "source": [
    "---\n",
    "---\n",
    "<div class=\"alert alert-block alert-info\"><h4>\n",
    "    TASK 2.3:</h4>\n",
    "    <p>\n",
    "    Now that you arranged the training data we can now create the raw data object.\n",
    "    </p>\n",
    "</div>"
   ]
  },
  {
   "cell_type": "code",
   "execution_count": null,
   "id": "3bb372d9",
   "metadata": {
    "lines_to_next_cell": 0
   },
   "outputs": [],
   "source": [
    "###TODO###\n",
    "# raw_data = RawData.from_folder (\n",
    "#    basepath    = 'data/SEM/train',\n",
    "#    source_dirs = [''], # fill in your directory for source images\n",
    "#    target_dir  = '', # fill in your directory of target images\n",
    "#    axes        = '', # what should the axes tag be?\n",
    "# )\n",
    "#"
   ]
  },
  {
   "cell_type": "markdown",
   "id": "6329d456",
   "metadata": {
    "cell_marker": "\"\"\"",
    "lines_to_next_cell": 0
   },
   "source": [
    "---\n",
    "We generate 2D patches. If you'd like, you can play around with the parameters here."
   ]
  },
  {
   "cell_type": "code",
   "execution_count": null,
   "id": "a99ef4e8",
   "metadata": {},
   "outputs": [],
   "source": [
    "X, Y, XY_axes = create_patches(\n",
    "    raw_data=raw_data,\n",
    "    patch_size=(256, 256),\n",
    "    n_patches_per_image=512,\n",
    "    save_file=\"data/SEM/my_1us_training_data.npz\",\n",
    ")\n",
    "\n",
    "assert X.shape == Y.shape\n",
    "print(\"shape of X,Y =\", X.shape)\n",
    "print(\"axes  of X,Y =\", XY_axes)"
   ]
  },
  {
   "cell_type": "markdown",
   "id": "cce84f47",
   "metadata": {
    "cell_marker": "\"\"\"",
    "lines_to_next_cell": 0
   },
   "source": [
    "### Show\n",
    "\n",
    "Let's look at some of the generated patch pairs. (odd rows: _source_, even rows: _target_)"
   ]
  },
  {
   "cell_type": "code",
   "execution_count": null,
   "id": "91bfc13a",
   "metadata": {
    "lines_to_next_cell": 2
   },
   "outputs": [],
   "source": [
    "for i in range(2):\n",
    "    plt.figure(figsize=(16, 4))\n",
    "    sl = slice(8 * i, 8 * (i + 1)), 0\n",
    "    plot_some(\n",
    "        X[sl], Y[sl], title_list=[np.arange(sl[0].start, sl[0].stop)], cmap=\"gray_r\"\n",
    "    )\n",
    "plt.show()"
   ]
  },
  {
   "cell_type": "markdown",
   "id": "9a9507ab",
   "metadata": {
    "cell_marker": "\"\"\"",
    "lines_to_next_cell": 0
   },
   "source": [
    "<hr style=\"height:2px;\">\n",
    "\n",
    "## Part 2: Training the network\n",
    "\n",
    "\n",
    "### Load Training data\n",
    "\n",
    "Load the patches generated in part 1, use 10% as validation data."
   ]
  },
  {
   "cell_type": "code",
   "execution_count": null,
   "id": "113e02db",
   "metadata": {},
   "outputs": [],
   "source": [
    "(X, Y), (X_val, Y_val), axes = load_training_data(\n",
    "    \"data/SEM/my_1us_training_data.npz\", validation_split=0.1, verbose=True\n",
    ")\n",
    "\n",
    "c = axes_dict(axes)[\"C\"]\n",
    "n_channel_in, n_channel_out = X.shape[c], Y.shape[c]\n",
    "\n",
    "\n",
    "plt.figure(figsize=(12, 5))\n",
    "plot_some(X_val[:5], Y_val[:5], cmap=\"gray_r\", pmin=0.2, pmax=99.8)\n",
    "plt.suptitle(\"5 example validation patches (top row: source, bottom row: target)\")\n",
    "\n",
    "config = Config(\n",
    "    axes, n_channel_in, n_channel_out, train_steps_per_epoch=10, train_epochs=100\n",
    ")\n",
    "vars(config)"
   ]
  },
  {
   "cell_type": "markdown",
   "id": "8938a673",
   "metadata": {
    "cell_marker": "\"\"\"",
    "lines_to_next_cell": 0
   },
   "source": [
    "We now create a CARE model with the chosen configuration:"
   ]
  },
  {
   "cell_type": "code",
   "execution_count": null,
   "id": "a3eeb8f8",
   "metadata": {},
   "outputs": [],
   "source": [
    "model = CARE(config, \"my_N2N_model\", basedir=\"models\")"
   ]
  },
  {
   "cell_type": "markdown",
   "id": "7b5e834d",
   "metadata": {
    "cell_marker": "\"\"\"",
    "lines_to_next_cell": 0
   },
   "source": [
    "### Training\n",
    "\n",
    "Training the model will likely take some time. We recommend to monitor the progress with [TensorBoard](https://www.tensorflow.org/programmers_guide/summaries_and_tensorboard), which allows you to inspect the losses during training.\n",
    "Furthermore, you can look at the predictions for some of the validation images, which can be helpful to recognize problems early on.\n",
    "\n",
    "Start tensorboard as you did in the previous notebook."
   ]
  },
  {
   "cell_type": "code",
   "execution_count": null,
   "id": "e7970a28",
   "metadata": {
    "lines_to_next_cell": 0
   },
   "outputs": [],
   "source": [
    "%tensorboard --logdir models"
   ]
  },
  {
   "cell_type": "code",
   "execution_count": null,
   "id": "3c48d534",
   "metadata": {},
   "outputs": [],
   "source": [
    "history = model.train(X, Y, validation_data=(X_val, Y_val))"
   ]
  },
  {
   "cell_type": "markdown",
   "id": "ae9c0e65",
   "metadata": {},
   "source": [
    "Plot final training history (available in TensorBoard during training):"
   ]
  },
  {
   "cell_type": "code",
   "execution_count": null,
   "id": "54cf7038",
   "metadata": {},
   "outputs": [],
   "source": [
    "print(sorted(list(history.history.keys())))\n",
    "plt.figure(figsize=(16, 5))\n",
    "plot_history(history, [\"loss\", \"val_loss\"], [\"mse\", \"val_mse\", \"mae\", \"val_mae\"])"
   ]
  },
  {
   "cell_type": "markdown",
   "id": "8b06d4d1",
   "metadata": {
    "cell_marker": "\"\"\"",
    "lines_to_next_cell": 0
   },
   "source": [
    "### Evaluation\n",
    "Example results for validation images."
   ]
  },
  {
   "cell_type": "code",
   "execution_count": null,
   "id": "d146d989",
   "metadata": {},
   "outputs": [],
   "source": [
    "plt.figure(figsize=(12, 7))\n",
    "_P = model.keras_model.predict(X_val[:5])\n",
    "if config.probabilistic:\n",
    "    _P = _P[..., : (_P.shape[-1] // 2)]\n",
    "plot_some(X_val[:5], Y_val[:5], _P, pmin=0.2, pmax=99.8, cmap=\"gray_r\")\n",
    "plt.suptitle(\n",
    "    \"5 example validation patches\\n\"\n",
    "    \"top row: input (noisy source),  \"\n",
    "    \"mid row: target (independently noisy),  \"\n",
    "    \"bottom row: predicted from source,   \"\n",
    ")"
   ]
  },
  {
   "cell_type": "markdown",
   "id": "6b5eb08f",
   "metadata": {
    "cell_marker": "\"\"\"",
    "lines_to_next_cell": 0
   },
   "source": [
    "<hr style=\"height:2px;\">\n",
    "\n",
    "## Part 3: Prediction\n",
    "\n",
    "\n",
    "### Load CARE model\n",
    "\n",
    "Load trained model (located in base directory `models` with name `my_model`) from disk.\n",
    "The configuration was saved during training and is automatically loaded when `CARE` is initialized with `config=None`."
   ]
  },
  {
   "cell_type": "code",
   "execution_count": null,
   "id": "7c0f1ac0",
   "metadata": {
    "lines_to_next_cell": 0
   },
   "outputs": [],
   "source": [
    "model = CARE(config=None, name=\"my_N2N_model\", basedir=\"models\")"
   ]
  },
  {
   "cell_type": "markdown",
   "id": "8ef39246",
   "metadata": {
    "cell_marker": "\"\"\"",
    "lines_to_next_cell": 0
   },
   "source": [
    "### Apply CARE network to raw image\n",
    "Now use the trained model to denoise some test images. Let's load the whole tiff stack first"
   ]
  },
  {
   "cell_type": "code",
   "execution_count": null,
   "id": "eef6b97d",
   "metadata": {
    "lines_to_next_cell": 2
   },
   "outputs": [],
   "source": [
    "path_test_data = \"data/SEM/test/test.tif\"\n",
    "test_imgs = imread(path_test_data)\n",
    "axes = \"YX\"\n",
    "\n",
    "# separate out the high SNR image as before\n",
    "x_test, x_test_highSNR = test_imgs[:-1], test_imgs[-1]"
   ]
  },
  {
   "cell_type": "markdown",
   "id": "8a8b0340",
   "metadata": {
    "cell_marker": "\"\"\""
   },
   "source": [
    "---\n",
    "<div class=\"alert alert-block alert-info\"><h4>\n",
    "    TASK 2.4:</h4>\n",
    "    <p>\n",
    "    Write a function that applies the model to one of the images in the tiff stack. Code to visualize the result by plotting the noisy image alongside the restored image as well as smaller crops of each is provided.\n",
    "    </p>\n",
    "</div>"
   ]
  },
  {
   "cell_type": "code",
   "execution_count": null,
   "id": "540050db",
   "metadata": {},
   "outputs": [],
   "source": [
    "###TODO###\n",
    "def apply_on_test(predict_model, img_idx, plot=True):\n",
    "    \"\"\"\n",
    "    Apply the given model on the test image at the given index of the tiff stack.\n",
    "    Returns the noisy image, restored image and the scantime.\n",
    "    \"\"\"\n",
    "    # TODO: insert your code for prediction here\n",
    "    scantime = ...  # get scantime for `img_idx`th image\n",
    "    img = ...  # get `img_idx`th image\n",
    "    restored = ...  # apply model to `img`\n",
    "    if plot:\n",
    "        img_crop = img[500:756, 200:456]\n",
    "        restored_crop = restored[500:756, 200:456]\n",
    "        x_test_highSNR_crop = x_test_highSNR[500:756, 200:456]\n",
    "        plt.figure(figsize=(20, 30))\n",
    "        plot_some(\n",
    "            np.stack([img, restored, x_test_highSNR]),\n",
    "            np.stack([img_crop, restored_crop, x_test_highSNR_crop]),\n",
    "            cmap=\"gray_r\",\n",
    "            title_list=[[scantime, \"restored\", scantime_highSNR]],\n",
    "        )\n",
    "    return img, restored, scantime"
   ]
  },
  {
   "cell_type": "markdown",
   "id": "a500183e",
   "metadata": {
    "cell_marker": "\"\"\"",
    "lines_to_next_cell": 0
   },
   "source": [
    "---\n",
    "\n",
    "Using the function you just wrote to restore one of the images with 1us scan time."
   ]
  },
  {
   "cell_type": "code",
   "execution_count": null,
   "id": "b0247bdf",
   "metadata": {},
   "outputs": [],
   "source": [
    "noisy_img, restored_img, scantime = apply_on_test(model, 2)\n",
    "\n",
    "ssi_input = structural_similarity(noisy_img, x_test_highSNR, data_range=65535)\n",
    "ssi_restored = structural_similarity(restored_img, x_test_highSNR, data_range=65535)\n",
    "print(\n",
    "    f\"Structural similarity index (higher is better) wrt average of 4x5us images: \\n\"\n",
    "    f\"Input: {ssi_input} \\n\"\n",
    "    f\"Prediction: {ssi_restored}\"\n",
    ")\n",
    "\n",
    "psnr_input = peak_signal_noise_ratio(noisy_img, x_test_highSNR, data_range=65535)\n",
    "psnr_restored = peak_signal_noise_ratio(restored_img, x_test_highSNR, data_range=65535)\n",
    "print(\n",
    "    f\"Peak signal-to-noise ratio wrt average of 4x5us images:\\n\"\n",
    "    f\"Input: {psnr_input} \\n\"\n",
    "    f\"Prediction: {psnr_restored}\"\n",
    ")"
   ]
  },
  {
   "cell_type": "markdown",
   "id": "e5212bca",
   "metadata": {
    "cell_marker": "\"\"\""
   },
   "source": [
    "---\n",
    "<div class=\"alert alert-block alert-info\"><h4>\n",
    "    TASK 2.5:</h4>\n",
    "    <p>\n",
    "    Be creative!\n",
    "\n",
    "Can you improve the results by using the data differently or by tweaking the settings?\n",
    "\n",
    "How could you train a single network to process all scan times?\n",
    "    </p>\n",
    "</div>"
   ]
  },
  {
   "cell_type": "markdown",
   "id": "02608480",
   "metadata": {
    "cell_marker": "\"\"\"",
    "lines_to_next_cell": 0
   },
   "source": [
    "To train a network to process all scan times use this instead as the solution to Task 2.3:\n",
    "The names \"low\" and \"GT\" don't really fit here anymore, so use names \"source_all\" and \"target_all\" instead"
   ]
  },
  {
   "cell_type": "code",
   "execution_count": null,
   "id": "09e5aaba",
   "metadata": {
    "lines_to_next_cell": 0
   },
   "outputs": [],
   "source": [
    "source_dir = \"data/SEM/train/source_all\"\n",
    "target_dir = \"data/SEM/train/target_all\""
   ]
  },
  {
   "cell_type": "code",
   "execution_count": null,
   "id": "f31da9a8",
   "metadata": {},
   "outputs": [],
   "source": [
    "os.makedirs(source_dir, exist_ok=True)\n",
    "os.makedirs(target_dir, exist_ok=True)"
   ]
  },
  {
   "cell_type": "markdown",
   "id": "94f48b0a",
   "metadata": {
    "cell_marker": "\"\"\"",
    "lines_to_next_cell": 0
   },
   "source": [
    "Since we wanna train a network for all scan times, we will use all images as our input images.\n",
    "To train Noise2Noise we can use every other image as our target - as long as the noise is different the only remianing structure is the signal, so mixing different scan times is totally fine.\n",
    "Images are paired by having the same name in `source_dir` and `target_dir`. This means we'll have several copies of the same image with different names. These images aren't very big, so that's fine."
   ]
  },
  {
   "cell_type": "code",
   "execution_count": null,
   "id": "ee8299d0",
   "metadata": {},
   "outputs": [],
   "source": [
    "counter = 0\n",
    "for i in range(x_train.shape[0]):\n",
    "    for j in range(x_train.shape[0]):\n",
    "        if i == j:\n",
    "            continue\n",
    "        imwrite(os.path.join(source_dir, f\"{counter}.tif\"), x_train[i, ...])\n",
    "        imwrite(os.path.join(target_dir, f\"{counter}.tif\"), x_train[j, ...])\n",
    "        counter += 1"
   ]
  },
  {
   "cell_type": "markdown",
   "id": "d7a64005",
   "metadata": {
    "cell_marker": "\"\"\""
   },
   "source": [
    "---\n",
    "<hr style=\"height:2px;\">\n",
    "<div class=\"alert alert-block alert-success\"><h1>\n",
    "    Congratulations!</h1>\n",
    "    <p>\n",
    "    <b>You have reached the second checkpoint of this exercise! Please mark your progress in the course chat!</b>\n",
    "    </p>\n",
    "</div>"
   ]
  }
 ],
 "metadata": {
  "jupytext": {
   "cell_metadata_filter": "all",
   "main_language": "python"
  }
 },
 "nbformat": 4,
 "nbformat_minor": 5
}
